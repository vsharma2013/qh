{
 "cells": [
  {
   "cell_type": "markdown",
   "metadata": {},
   "source": [
    "# Expression Parser"
   ]
  },
  {
   "cell_type": "code",
   "execution_count": 6,
   "metadata": {},
   "outputs": [],
   "source": [
    "import re"
   ]
  },
  {
   "cell_type": "code",
   "execution_count": 7,
   "metadata": {},
   "outputs": [],
   "source": [
    "def getResult(a, b, op):\n",
    "    print('exp = {} {} {}'.format(a, op, b))\n",
    "    a = float(a)\n",
    "    b = float(b)\n",
    "    if(op == '+'): return a + b\n",
    "    if(op == '-'): return a - b\n",
    "    if(op == '*'): return a * b\n",
    "    if(op == '/'): return a / b\n",
    "\n"
   ]
  },
  {
   "cell_type": "code",
   "execution_count": 8,
   "metadata": {},
   "outputs": [],
   "source": [
    "def parseExpressionAndReportResult(strFormula):\n",
    "    nums = re.findall('\\d*\\.\\d+|\\d+', strFormula)\n",
    "    ops = re.findall('[*]|[\\+]|[-]|[/]', strFormula)\n",
    "    if(len(nums) < 2 or len(ops) < 1): \n",
    "        return 0\n",
    "    \n",
    "    result = getResult(nums.pop(0), nums.pop(0), ops.pop(0))\n",
    "    print(result)\n",
    "    while(len(nums) > 0):\n",
    "        result = getResult(result, nums.pop(0), ops.pop(0))\n",
    "        print(result)\n",
    "    return result;"
   ]
  },
  {
   "cell_type": "code",
   "execution_count": 9,
   "metadata": {},
   "outputs": [
    {
     "name": "stdout",
     "output_type": "stream",
     "text": [
      "exp = 5 * 11.5\n",
      "57.5\n",
      "exp = 57.5 - 2\n",
      "55.5\n",
      "exp = 55.5 + 235\n",
      "290.5\n",
      "exp = 290.5 / 2\n",
      "145.25\n"
     ]
    },
    {
     "data": {
      "text/plain": [
       "145.25"
      ]
     },
     "execution_count": 9,
     "metadata": {},
     "output_type": "execute_result"
    }
   ],
   "source": [
    "parseExpressionAndReportResult(\"5 * 11.5 - 2 + 235/2\")"
   ]
  },
  {
   "cell_type": "code",
   "execution_count": null,
   "metadata": {},
   "outputs": [],
   "source": []
  }
 ],
 "metadata": {
  "kernelspec": {
   "display_name": "Python 3",
   "language": "python",
   "name": "python3"
  },
  "language_info": {
   "codemirror_mode": {
    "name": "ipython",
    "version": 3
   },
   "file_extension": ".py",
   "mimetype": "text/x-python",
   "name": "python",
   "nbconvert_exporter": "python",
   "pygments_lexer": "ipython3",
   "version": "3.7.3"
  }
 },
 "nbformat": 4,
 "nbformat_minor": 2
}
